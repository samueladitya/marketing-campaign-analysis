{
 "cells": [
  {
   "cell_type": "markdown",
   "metadata": {},
   "source": [
    "# **Libraries**"
   ]
  },
  {
   "cell_type": "code",
   "execution_count": 1,
   "metadata": {},
   "outputs": [],
   "source": [
    "import pandas as pd\n",
    "import numpy as np\n",
    "import matplotlib.pyplot as plt\n",
    "import seaborn as sns"
   ]
  },
  {
   "cell_type": "markdown",
   "metadata": {},
   "source": [
    "# **Load The Dataset**"
   ]
  },
  {
   "cell_type": "code",
   "execution_count": 2,
   "metadata": {},
   "outputs": [
    {
     "data": {
      "text/html": [
       "<div>\n",
       "<style scoped>\n",
       "    .dataframe tbody tr th:only-of-type {\n",
       "        vertical-align: middle;\n",
       "    }\n",
       "\n",
       "    .dataframe tbody tr th {\n",
       "        vertical-align: top;\n",
       "    }\n",
       "\n",
       "    .dataframe thead th {\n",
       "        text-align: right;\n",
       "    }\n",
       "</style>\n",
       "<table border=\"1\" class=\"dataframe\">\n",
       "  <thead>\n",
       "    <tr style=\"text-align: right;\">\n",
       "      <th></th>\n",
       "      <th>CustomerID</th>\n",
       "      <th>Age</th>\n",
       "      <th>Gender</th>\n",
       "      <th>Income</th>\n",
       "      <th>CampaignChannel</th>\n",
       "      <th>CampaignType</th>\n",
       "      <th>AdSpend</th>\n",
       "      <th>ClickThroughRate</th>\n",
       "      <th>ConversionRate</th>\n",
       "      <th>WebsiteVisits</th>\n",
       "      <th>PagesPerVisit</th>\n",
       "      <th>TimeOnSite</th>\n",
       "      <th>SocialShares</th>\n",
       "      <th>EmailOpens</th>\n",
       "      <th>EmailClicks</th>\n",
       "      <th>PreviousPurchases</th>\n",
       "      <th>LoyaltyPoints</th>\n",
       "      <th>AdvertisingPlatform</th>\n",
       "      <th>AdvertisingTool</th>\n",
       "      <th>Conversion</th>\n",
       "    </tr>\n",
       "  </thead>\n",
       "  <tbody>\n",
       "    <tr>\n",
       "      <th>1136</th>\n",
       "      <td>9136</td>\n",
       "      <td>31</td>\n",
       "      <td>Female</td>\n",
       "      <td>107160</td>\n",
       "      <td>PPC</td>\n",
       "      <td>Conversion</td>\n",
       "      <td>7435.833191</td>\n",
       "      <td>0.076232</td>\n",
       "      <td>0.179666</td>\n",
       "      <td>13</td>\n",
       "      <td>2.064019</td>\n",
       "      <td>3.377667</td>\n",
       "      <td>16</td>\n",
       "      <td>5</td>\n",
       "      <td>9</td>\n",
       "      <td>5</td>\n",
       "      <td>4264</td>\n",
       "      <td>IsConfid</td>\n",
       "      <td>ToolConfid</td>\n",
       "      <td>1</td>\n",
       "    </tr>\n",
       "    <tr>\n",
       "      <th>6821</th>\n",
       "      <td>14821</td>\n",
       "      <td>68</td>\n",
       "      <td>Female</td>\n",
       "      <td>148670</td>\n",
       "      <td>Email</td>\n",
       "      <td>Conversion</td>\n",
       "      <td>636.606369</td>\n",
       "      <td>0.209231</td>\n",
       "      <td>0.128295</td>\n",
       "      <td>6</td>\n",
       "      <td>3.761489</td>\n",
       "      <td>13.430759</td>\n",
       "      <td>72</td>\n",
       "      <td>9</td>\n",
       "      <td>8</td>\n",
       "      <td>6</td>\n",
       "      <td>4430</td>\n",
       "      <td>IsConfid</td>\n",
       "      <td>ToolConfid</td>\n",
       "      <td>1</td>\n",
       "    </tr>\n",
       "    <tr>\n",
       "      <th>1554</th>\n",
       "      <td>9554</td>\n",
       "      <td>53</td>\n",
       "      <td>Female</td>\n",
       "      <td>20042</td>\n",
       "      <td>Social Media</td>\n",
       "      <td>Consideration</td>\n",
       "      <td>8498.933673</td>\n",
       "      <td>0.072055</td>\n",
       "      <td>0.080039</td>\n",
       "      <td>13</td>\n",
       "      <td>1.325856</td>\n",
       "      <td>5.868339</td>\n",
       "      <td>59</td>\n",
       "      <td>5</td>\n",
       "      <td>3</td>\n",
       "      <td>6</td>\n",
       "      <td>2008</td>\n",
       "      <td>IsConfid</td>\n",
       "      <td>ToolConfid</td>\n",
       "      <td>1</td>\n",
       "    </tr>\n",
       "    <tr>\n",
       "      <th>4991</th>\n",
       "      <td>12991</td>\n",
       "      <td>18</td>\n",
       "      <td>Female</td>\n",
       "      <td>81377</td>\n",
       "      <td>Social Media</td>\n",
       "      <td>Awareness</td>\n",
       "      <td>5125.729341</td>\n",
       "      <td>0.212106</td>\n",
       "      <td>0.086676</td>\n",
       "      <td>27</td>\n",
       "      <td>2.428157</td>\n",
       "      <td>12.290597</td>\n",
       "      <td>52</td>\n",
       "      <td>13</td>\n",
       "      <td>7</td>\n",
       "      <td>4</td>\n",
       "      <td>3188</td>\n",
       "      <td>IsConfid</td>\n",
       "      <td>ToolConfid</td>\n",
       "      <td>1</td>\n",
       "    </tr>\n",
       "    <tr>\n",
       "      <th>6482</th>\n",
       "      <td>14482</td>\n",
       "      <td>59</td>\n",
       "      <td>Male</td>\n",
       "      <td>116102</td>\n",
       "      <td>Email</td>\n",
       "      <td>Consideration</td>\n",
       "      <td>436.004314</td>\n",
       "      <td>0.108992</td>\n",
       "      <td>0.141453</td>\n",
       "      <td>39</td>\n",
       "      <td>7.535145</td>\n",
       "      <td>1.240241</td>\n",
       "      <td>42</td>\n",
       "      <td>6</td>\n",
       "      <td>0</td>\n",
       "      <td>5</td>\n",
       "      <td>88</td>\n",
       "      <td>IsConfid</td>\n",
       "      <td>ToolConfid</td>\n",
       "      <td>1</td>\n",
       "    </tr>\n",
       "    <tr>\n",
       "      <th>2566</th>\n",
       "      <td>10566</td>\n",
       "      <td>28</td>\n",
       "      <td>Male</td>\n",
       "      <td>82714</td>\n",
       "      <td>Social Media</td>\n",
       "      <td>Conversion</td>\n",
       "      <td>1838.278757</td>\n",
       "      <td>0.267666</td>\n",
       "      <td>0.115082</td>\n",
       "      <td>37</td>\n",
       "      <td>8.931366</td>\n",
       "      <td>7.168230</td>\n",
       "      <td>84</td>\n",
       "      <td>18</td>\n",
       "      <td>3</td>\n",
       "      <td>2</td>\n",
       "      <td>187</td>\n",
       "      <td>IsConfid</td>\n",
       "      <td>ToolConfid</td>\n",
       "      <td>1</td>\n",
       "    </tr>\n",
       "    <tr>\n",
       "      <th>588</th>\n",
       "      <td>8588</td>\n",
       "      <td>27</td>\n",
       "      <td>Female</td>\n",
       "      <td>56894</td>\n",
       "      <td>Email</td>\n",
       "      <td>Retention</td>\n",
       "      <td>2789.501386</td>\n",
       "      <td>0.027655</td>\n",
       "      <td>0.094788</td>\n",
       "      <td>32</td>\n",
       "      <td>2.556227</td>\n",
       "      <td>13.048606</td>\n",
       "      <td>42</td>\n",
       "      <td>5</td>\n",
       "      <td>7</td>\n",
       "      <td>9</td>\n",
       "      <td>3590</td>\n",
       "      <td>IsConfid</td>\n",
       "      <td>ToolConfid</td>\n",
       "      <td>1</td>\n",
       "    </tr>\n",
       "    <tr>\n",
       "      <th>4527</th>\n",
       "      <td>12527</td>\n",
       "      <td>35</td>\n",
       "      <td>Male</td>\n",
       "      <td>135042</td>\n",
       "      <td>Social Media</td>\n",
       "      <td>Retention</td>\n",
       "      <td>730.718811</td>\n",
       "      <td>0.100879</td>\n",
       "      <td>0.012933</td>\n",
       "      <td>35</td>\n",
       "      <td>9.275296</td>\n",
       "      <td>5.863232</td>\n",
       "      <td>22</td>\n",
       "      <td>16</td>\n",
       "      <td>2</td>\n",
       "      <td>4</td>\n",
       "      <td>1951</td>\n",
       "      <td>IsConfid</td>\n",
       "      <td>ToolConfid</td>\n",
       "      <td>1</td>\n",
       "    </tr>\n",
       "    <tr>\n",
       "      <th>4416</th>\n",
       "      <td>12416</td>\n",
       "      <td>32</td>\n",
       "      <td>Female</td>\n",
       "      <td>78968</td>\n",
       "      <td>Social Media</td>\n",
       "      <td>Consideration</td>\n",
       "      <td>6782.605858</td>\n",
       "      <td>0.024609</td>\n",
       "      <td>0.160185</td>\n",
       "      <td>29</td>\n",
       "      <td>7.117804</td>\n",
       "      <td>5.564638</td>\n",
       "      <td>78</td>\n",
       "      <td>1</td>\n",
       "      <td>1</td>\n",
       "      <td>6</td>\n",
       "      <td>1024</td>\n",
       "      <td>IsConfid</td>\n",
       "      <td>ToolConfid</td>\n",
       "      <td>1</td>\n",
       "    </tr>\n",
       "    <tr>\n",
       "      <th>7171</th>\n",
       "      <td>15171</td>\n",
       "      <td>36</td>\n",
       "      <td>Female</td>\n",
       "      <td>55902</td>\n",
       "      <td>PPC</td>\n",
       "      <td>Consideration</td>\n",
       "      <td>9168.468535</td>\n",
       "      <td>0.041508</td>\n",
       "      <td>0.146685</td>\n",
       "      <td>44</td>\n",
       "      <td>2.300022</td>\n",
       "      <td>8.305818</td>\n",
       "      <td>6</td>\n",
       "      <td>0</td>\n",
       "      <td>4</td>\n",
       "      <td>0</td>\n",
       "      <td>2752</td>\n",
       "      <td>IsConfid</td>\n",
       "      <td>ToolConfid</td>\n",
       "      <td>1</td>\n",
       "    </tr>\n",
       "  </tbody>\n",
       "</table>\n",
       "</div>"
      ],
      "text/plain": [
       "      CustomerID  Age  Gender  Income CampaignChannel   CampaignType  \\\n",
       "1136        9136   31  Female  107160             PPC     Conversion   \n",
       "6821       14821   68  Female  148670           Email     Conversion   \n",
       "1554        9554   53  Female   20042    Social Media  Consideration   \n",
       "4991       12991   18  Female   81377    Social Media      Awareness   \n",
       "6482       14482   59    Male  116102           Email  Consideration   \n",
       "2566       10566   28    Male   82714    Social Media     Conversion   \n",
       "588         8588   27  Female   56894           Email      Retention   \n",
       "4527       12527   35    Male  135042    Social Media      Retention   \n",
       "4416       12416   32  Female   78968    Social Media  Consideration   \n",
       "7171       15171   36  Female   55902             PPC  Consideration   \n",
       "\n",
       "          AdSpend  ClickThroughRate  ConversionRate  WebsiteVisits  \\\n",
       "1136  7435.833191          0.076232        0.179666             13   \n",
       "6821   636.606369          0.209231        0.128295              6   \n",
       "1554  8498.933673          0.072055        0.080039             13   \n",
       "4991  5125.729341          0.212106        0.086676             27   \n",
       "6482   436.004314          0.108992        0.141453             39   \n",
       "2566  1838.278757          0.267666        0.115082             37   \n",
       "588   2789.501386          0.027655        0.094788             32   \n",
       "4527   730.718811          0.100879        0.012933             35   \n",
       "4416  6782.605858          0.024609        0.160185             29   \n",
       "7171  9168.468535          0.041508        0.146685             44   \n",
       "\n",
       "      PagesPerVisit  TimeOnSite  SocialShares  EmailOpens  EmailClicks  \\\n",
       "1136       2.064019    3.377667            16           5            9   \n",
       "6821       3.761489   13.430759            72           9            8   \n",
       "1554       1.325856    5.868339            59           5            3   \n",
       "4991       2.428157   12.290597            52          13            7   \n",
       "6482       7.535145    1.240241            42           6            0   \n",
       "2566       8.931366    7.168230            84          18            3   \n",
       "588        2.556227   13.048606            42           5            7   \n",
       "4527       9.275296    5.863232            22          16            2   \n",
       "4416       7.117804    5.564638            78           1            1   \n",
       "7171       2.300022    8.305818             6           0            4   \n",
       "\n",
       "      PreviousPurchases  LoyaltyPoints AdvertisingPlatform AdvertisingTool  \\\n",
       "1136                  5           4264            IsConfid      ToolConfid   \n",
       "6821                  6           4430            IsConfid      ToolConfid   \n",
       "1554                  6           2008            IsConfid      ToolConfid   \n",
       "4991                  4           3188            IsConfid      ToolConfid   \n",
       "6482                  5             88            IsConfid      ToolConfid   \n",
       "2566                  2            187            IsConfid      ToolConfid   \n",
       "588                   9           3590            IsConfid      ToolConfid   \n",
       "4527                  4           1951            IsConfid      ToolConfid   \n",
       "4416                  6           1024            IsConfid      ToolConfid   \n",
       "7171                  0           2752            IsConfid      ToolConfid   \n",
       "\n",
       "      Conversion  \n",
       "1136           1  \n",
       "6821           1  \n",
       "1554           1  \n",
       "4991           1  \n",
       "6482           1  \n",
       "2566           1  \n",
       "588            1  \n",
       "4527           1  \n",
       "4416           1  \n",
       "7171           1  "
      ]
     },
     "execution_count": 2,
     "metadata": {},
     "output_type": "execute_result"
    }
   ],
   "source": [
    "df = pd.read_csv(r'C:\\Users\\Samuel\\Documents\\Projects\\marketing_campaign_analysis\\dataset\\digital_marketing_campaign_dataset.csv')\n",
    "df.sample(10)"
   ]
  },
  {
   "cell_type": "markdown",
   "metadata": {},
   "source": [
    "# **Data Exploration**"
   ]
  },
  {
   "cell_type": "markdown",
   "metadata": {},
   "source": [
    "## Define Data Information Function"
   ]
  },
  {
   "cell_type": "code",
   "execution_count": 3,
   "metadata": {},
   "outputs": [],
   "source": [
    "def get_data_info(df):\n",
    "    print(\"\\n\\033[1mShape of Dataframe:\\033[0m \", df.shape)\n",
    "    print(\"\\n\\033[1mColumns in Dataframe:\\033[0m \", df.columns.to_list())\n",
    "    print(\"\\n\\033[1mData Types of Columns:\\033[0m\\n\", df.dtypes)\n",
    "\n",
    "    print(\"\\n\\033[1mInformation About Dataframe:\\033[0m\")\n",
    "    df.info()\n",
    "\n",
    "    print(\"\\n\\033[1mNumber of Unique Values in Each Column:\\033[0m\")\n",
    "    for col in df.columns:\n",
    "        print(f\"\\033[1m{col}\\033[0m: {df[col].nunique()}\")\n",
    "    \n",
    "    print(\"\\n\\033[1mNumber of Null Values in Each Column:\\033[0m\\n\", df.isnull().sum())\n",
    "\n",
    "    print(\"\\n\\033[1mNumber of Duplicates Rows:\\033[0m \", df.duplicated().sum())\n",
    "\n",
    "    print(\"\\n\\033[1mDescriptive Stats of Dataframe:\\033[0m\\n\", df.describe().transpose())"
   ]
  },
  {
   "cell_type": "markdown",
   "metadata": {},
   "source": [
    "## Get Info"
   ]
  },
  {
   "cell_type": "code",
   "execution_count": 4,
   "metadata": {},
   "outputs": [
    {
     "name": "stdout",
     "output_type": "stream",
     "text": [
      "\n",
      "\u001b[1mShape of Dataframe:\u001b[0m  (8000, 20)\n",
      "\n",
      "\u001b[1mColumns in Dataframe:\u001b[0m  ['CustomerID', 'Age', 'Gender', 'Income', 'CampaignChannel', 'CampaignType', 'AdSpend', 'ClickThroughRate', 'ConversionRate', 'WebsiteVisits', 'PagesPerVisit', 'TimeOnSite', 'SocialShares', 'EmailOpens', 'EmailClicks', 'PreviousPurchases', 'LoyaltyPoints', 'AdvertisingPlatform', 'AdvertisingTool', 'Conversion']\n",
      "\n",
      "\u001b[1mData Types of Columns:\u001b[0m\n",
      " CustomerID               int64\n",
      "Age                      int64\n",
      "Gender                  object\n",
      "Income                   int64\n",
      "CampaignChannel         object\n",
      "CampaignType            object\n",
      "AdSpend                float64\n",
      "ClickThroughRate       float64\n",
      "ConversionRate         float64\n",
      "WebsiteVisits            int64\n",
      "PagesPerVisit          float64\n",
      "TimeOnSite             float64\n",
      "SocialShares             int64\n",
      "EmailOpens               int64\n",
      "EmailClicks              int64\n",
      "PreviousPurchases        int64\n",
      "LoyaltyPoints            int64\n",
      "AdvertisingPlatform     object\n",
      "AdvertisingTool         object\n",
      "Conversion               int64\n",
      "dtype: object\n",
      "\n",
      "\u001b[1mInformation About Dataframe:\u001b[0m\n",
      "<class 'pandas.core.frame.DataFrame'>\n",
      "RangeIndex: 8000 entries, 0 to 7999\n",
      "Data columns (total 20 columns):\n",
      " #   Column               Non-Null Count  Dtype  \n",
      "---  ------               --------------  -----  \n",
      " 0   CustomerID           8000 non-null   int64  \n",
      " 1   Age                  8000 non-null   int64  \n",
      " 2   Gender               8000 non-null   object \n",
      " 3   Income               8000 non-null   int64  \n",
      " 4   CampaignChannel      8000 non-null   object \n",
      " 5   CampaignType         8000 non-null   object \n",
      " 6   AdSpend              8000 non-null   float64\n",
      " 7   ClickThroughRate     8000 non-null   float64\n",
      " 8   ConversionRate       8000 non-null   float64\n",
      " 9   WebsiteVisits        8000 non-null   int64  \n",
      " 10  PagesPerVisit        8000 non-null   float64\n",
      " 11  TimeOnSite           8000 non-null   float64\n",
      " 12  SocialShares         8000 non-null   int64  \n",
      " 13  EmailOpens           8000 non-null   int64  \n",
      " 14  EmailClicks          8000 non-null   int64  \n",
      " 15  PreviousPurchases    8000 non-null   int64  \n",
      " 16  LoyaltyPoints        8000 non-null   int64  \n",
      " 17  AdvertisingPlatform  8000 non-null   object \n",
      " 18  AdvertisingTool      8000 non-null   object \n",
      " 19  Conversion           8000 non-null   int64  \n",
      "dtypes: float64(5), int64(10), object(5)\n",
      "memory usage: 1.2+ MB\n",
      "\n",
      "\u001b[1mNumber of Unique Values in Each Column:\u001b[0m\n",
      "\u001b[1mCustomerID\u001b[0m: 8000\n",
      "\u001b[1mAge\u001b[0m: 52\n",
      "\u001b[1mGender\u001b[0m: 2\n",
      "\u001b[1mIncome\u001b[0m: 7789\n",
      "\u001b[1mCampaignChannel\u001b[0m: 5\n",
      "\u001b[1mCampaignType\u001b[0m: 4\n",
      "\u001b[1mAdSpend\u001b[0m: 8000\n",
      "\u001b[1mClickThroughRate\u001b[0m: 8000\n",
      "\u001b[1mConversionRate\u001b[0m: 8000\n",
      "\u001b[1mWebsiteVisits\u001b[0m: 50\n",
      "\u001b[1mPagesPerVisit\u001b[0m: 8000\n",
      "\u001b[1mTimeOnSite\u001b[0m: 8000\n",
      "\u001b[1mSocialShares\u001b[0m: 100\n",
      "\u001b[1mEmailOpens\u001b[0m: 20\n",
      "\u001b[1mEmailClicks\u001b[0m: 10\n",
      "\u001b[1mPreviousPurchases\u001b[0m: 10\n",
      "\u001b[1mLoyaltyPoints\u001b[0m: 3983\n",
      "\u001b[1mAdvertisingPlatform\u001b[0m: 1\n",
      "\u001b[1mAdvertisingTool\u001b[0m: 1\n",
      "\u001b[1mConversion\u001b[0m: 2\n",
      "\n",
      "\u001b[1mNumber of Null Values in Each Column:\u001b[0m\n",
      " CustomerID             0\n",
      "Age                    0\n",
      "Gender                 0\n",
      "Income                 0\n",
      "CampaignChannel        0\n",
      "CampaignType           0\n",
      "AdSpend                0\n",
      "ClickThroughRate       0\n",
      "ConversionRate         0\n",
      "WebsiteVisits          0\n",
      "PagesPerVisit          0\n",
      "TimeOnSite             0\n",
      "SocialShares           0\n",
      "EmailOpens             0\n",
      "EmailClicks            0\n",
      "PreviousPurchases      0\n",
      "LoyaltyPoints          0\n",
      "AdvertisingPlatform    0\n",
      "AdvertisingTool        0\n",
      "Conversion             0\n",
      "dtype: int64\n",
      "\n",
      "\u001b[1mNumber of Duplicates Rows:\u001b[0m  0\n",
      "\n",
      "\u001b[1mDescriptive Stats of Dataframe:\u001b[0m\n",
      "                     count          mean           std           min  \\\n",
      "CustomerID         8000.0  11999.500000   2309.545410   8000.000000   \n",
      "Age                8000.0     43.625500     14.902785     18.000000   \n",
      "Income             8000.0  84664.196750  37580.387945  20014.000000   \n",
      "AdSpend            8000.0   5000.944830   2838.038153    100.054813   \n",
      "ClickThroughRate   8000.0      0.154829      0.084007      0.010005   \n",
      "ConversionRate     8000.0      0.104389      0.054878      0.010018   \n",
      "WebsiteVisits      8000.0     24.751625     14.312269      0.000000   \n",
      "PagesPerVisit      8000.0      5.549299      2.607358      1.000428   \n",
      "TimeOnSite         8000.0      7.727718      4.228218      0.501669   \n",
      "SocialShares       8000.0     49.799750     28.901165      0.000000   \n",
      "EmailOpens         8000.0      9.476875      5.711111      0.000000   \n",
      "EmailClicks        8000.0      4.467375      2.856564      0.000000   \n",
      "PreviousPurchases  8000.0      4.485500      2.888093      0.000000   \n",
      "LoyaltyPoints      8000.0   2490.268500   1429.527162      0.000000   \n",
      "Conversion         8000.0      0.876500      0.329031      0.000000   \n",
      "\n",
      "                            25%           50%            75%            max  \n",
      "CustomerID          9999.750000  11999.500000   13999.250000   15999.000000  \n",
      "Age                   31.000000     43.000000      56.000000      69.000000  \n",
      "Income             51744.500000  84926.500000  116815.750000  149986.000000  \n",
      "AdSpend             2523.221165   5013.440044    7407.989369    9997.914781  \n",
      "ClickThroughRate       0.082635      0.154505       0.228207       0.299968  \n",
      "ConversionRate         0.056410      0.104046       0.152077       0.199995  \n",
      "WebsiteVisits         13.000000     25.000000      37.000000      49.000000  \n",
      "PagesPerVisit          3.302479      5.534257       7.835756       9.999055  \n",
      "TimeOnSite             4.068340      7.682956      11.481468      14.995311  \n",
      "SocialShares          25.000000     50.000000      75.000000      99.000000  \n",
      "EmailOpens             5.000000      9.000000      14.000000      19.000000  \n",
      "EmailClicks            2.000000      4.000000       7.000000       9.000000  \n",
      "PreviousPurchases      2.000000      4.000000       7.000000       9.000000  \n",
      "LoyaltyPoints       1254.750000   2497.000000    3702.250000    4999.000000  \n",
      "Conversion             1.000000      1.000000       1.000000       1.000000  \n"
     ]
    }
   ],
   "source": [
    "get_data_info(df)"
   ]
  },
  {
   "cell_type": "markdown",
   "metadata": {},
   "source": [
    "# **Findings**"
   ]
  },
  {
   "cell_type": "markdown",
   "metadata": {},
   "source": [
    "**What we find about the data**\n",
    "* The data has 8.000 rows and 20 columns\n",
    "* There are no duplicate and null values\n",
    "* There are two confidential columns, AdvertisingPlatform & AdvertisingTool"
   ]
  },
  {
   "cell_type": "markdown",
   "metadata": {},
   "source": [
    "**Some specific observation about the data**\n",
    "* **Age**: Average age is around 43 years old, with a range of 18 to 69 years old.\n",
    "* **Income**: There is a significant spread in income levels due to significant standard deviation with average income around $84.664\n",
    "* **CTR**:\n",
    "* **Conversion Rate**:\n",
    "* **Website Visits**:"
   ]
  },
  {
   "cell_type": "code",
   "execution_count": 4,
   "metadata": {},
   "outputs": [],
   "source": [
    "df = df.drop(['AdvertisingPlatform', 'AdvertisingTool'], axis=1)"
   ]
  },
  {
   "cell_type": "markdown",
   "metadata": {},
   "source": [
    "# **Digital Marketing Campaign Success Metrics**"
   ]
  },
  {
   "cell_type": "markdown",
   "metadata": {},
   "source": [
    "## **1. Click Through Rate (CTR)**\n",
    "CTR is the number of clicks that ad receives divided by the number of times ad is shown: *clicks ÷ impressions = CTR*."
   ]
  },
  {
   "cell_type": "code",
   "execution_count": 5,
   "metadata": {},
   "outputs": [
    {
     "name": "stdout",
     "output_type": "stream",
     "text": [
      "Click Through Rate (CTR): 15.48%\n"
     ]
    }
   ],
   "source": [
    "ctr = (df['ClickThroughRate'].sum() / len(df)) * 100\n",
    "print(f\"Click Through Rate (CTR): {ctr:.2f}%\")"
   ]
  },
  {
   "cell_type": "markdown",
   "metadata": {},
   "source": [
    "## **2. Conversion Rate**"
   ]
  },
  {
   "cell_type": "markdown",
   "metadata": {},
   "source": [
    "Conversion rate is a percentage used in digital marketing to evaluate performance of website traffic, marketing campaigns and conversions. To calculate a conversion rate, take the number of *conversions divided by the total number of visitors*."
   ]
  },
  {
   "cell_type": "code",
   "execution_count": 6,
   "metadata": {},
   "outputs": [
    {
     "name": "stdout",
     "output_type": "stream",
     "text": [
      "Conversion Rate: 87.65%\n"
     ]
    }
   ],
   "source": [
    "conversion_rate = (df['Conversion'].sum() / len(df)) * 100\n",
    "print(f\"Conversion Rate: {conversion_rate:.2f}%\")"
   ]
  },
  {
   "cell_type": "markdown",
   "metadata": {},
   "source": [
    "## **3. Customer Acquisition Cost (CAC)**"
   ]
  },
  {
   "cell_type": "markdown",
   "metadata": {},
   "source": [
    "Customer Acquisition Cost (CAC) measures how much an organization spends to acquire new customers."
   ]
  },
  {
   "cell_type": "code",
   "execution_count": 7,
   "metadata": {},
   "outputs": [
    {
     "name": "stdout",
     "output_type": "stream",
     "text": [
      "Customer Acquisition Cost: $5705.58\n"
     ]
    }
   ],
   "source": [
    "acquired_customers = len(df[df['Conversion'] == 1])\n",
    "total_cost = df['AdSpend'].sum()\n",
    "cac = total_cost / acquired_customers\n",
    "\n",
    "print(f\"Customer Acquisition Cost: ${cac:.2f}\")"
   ]
  },
  {
   "cell_type": "markdown",
   "metadata": {},
   "source": [
    "## **4. Marketing Cost by Campaign Channel**"
   ]
  },
  {
   "cell_type": "code",
   "execution_count": 8,
   "metadata": {},
   "outputs": [
    {
     "data": {
      "text/html": [
       "<div>\n",
       "<style scoped>\n",
       "    .dataframe tbody tr th:only-of-type {\n",
       "        vertical-align: middle;\n",
       "    }\n",
       "\n",
       "    .dataframe tbody tr th {\n",
       "        vertical-align: top;\n",
       "    }\n",
       "\n",
       "    .dataframe thead th {\n",
       "        text-align: right;\n",
       "    }\n",
       "</style>\n",
       "<table border=\"1\" class=\"dataframe\">\n",
       "  <thead>\n",
       "    <tr style=\"text-align: right;\">\n",
       "      <th></th>\n",
       "      <th>AdSpend</th>\n",
       "    </tr>\n",
       "    <tr>\n",
       "      <th>CampaignChannel</th>\n",
       "      <th></th>\n",
       "    </tr>\n",
       "  </thead>\n",
       "  <tbody>\n",
       "    <tr>\n",
       "      <th>Email</th>\n",
       "      <td>7,871,575.85</td>\n",
       "    </tr>\n",
       "    <tr>\n",
       "      <th>PPC</th>\n",
       "      <td>8,199,236.98</td>\n",
       "    </tr>\n",
       "    <tr>\n",
       "      <th>Referral</th>\n",
       "      <td>8,653,518.69</td>\n",
       "    </tr>\n",
       "    <tr>\n",
       "      <th>SEO</th>\n",
       "      <td>7,740,903.88</td>\n",
       "    </tr>\n",
       "    <tr>\n",
       "      <th>Social Media</th>\n",
       "      <td>7,542,323.25</td>\n",
       "    </tr>\n",
       "    <tr>\n",
       "      <th>Total</th>\n",
       "      <td>40,007,558.64</td>\n",
       "    </tr>\n",
       "  </tbody>\n",
       "</table>\n",
       "</div>"
      ],
      "text/plain": [
       "                       AdSpend\n",
       "CampaignChannel               \n",
       "Email             7,871,575.85\n",
       "PPC               8,199,236.98\n",
       "Referral          8,653,518.69\n",
       "SEO               7,740,903.88\n",
       "Social Media      7,542,323.25\n",
       "Total            40,007,558.64"
      ]
     },
     "execution_count": 8,
     "metadata": {},
     "output_type": "execute_result"
    }
   ],
   "source": [
    "mkt_cost = pd.pivot_table(df,\n",
    "                          index='CampaignChannel', values='AdSpend',\n",
    "                          aggfunc='sum', margins=True, margins_name='Total')\n",
    "mkt_cost = mkt_cost.map(lambda x: '{:,.2f}'.format(x))\n",
    "mkt_cost"
   ]
  },
  {
   "cell_type": "markdown",
   "metadata": {},
   "source": [
    "## **5. Return on Ad Spend (ROAS)**"
   ]
  },
  {
   "cell_type": "markdown",
   "metadata": {},
   "source": [
    "In this case, I assume the marketing cost is taken as 5% of the total income. This means, if the marketing cost incurred is 40,007,558.64, then the assumed income obtained is 800,151,173."
   ]
  },
  {
   "cell_type": "code",
   "execution_count": 11,
   "metadata": {},
   "outputs": [
    {
     "name": "stdout",
     "output_type": "stream",
     "text": [
      "Return on Ad Spend: 20.00\n"
     ]
    }
   ],
   "source": [
    "total_revenue = (df['AdSpend'].sum()) / 0.05\n",
    "roas = total_revenue / total_cost\n",
    "print(f\"Return on Ad Spend: {roas:.2f}\")"
   ]
  },
  {
   "cell_type": "markdown",
   "metadata": {},
   "source": [
    "## **6. Return on Investment (ROI)**"
   ]
  },
  {
   "cell_type": "markdown",
   "metadata": {},
   "source": [
    "**Return on Investment (ROI)** simply compares the profit that resulted from a digital marketing campaign to how much the campaign cost to create and deploy. Ideally, we want as high an ROI as possible. The basic *ROI calculation is: ROI = (Net Profit/Total Cost) x 100*.\n",
    "\n",
    "In this dataset, we don't have specific revenue column. so I took a different approach by calculating the average revenue per conversion, with the total revenue already defined in the previous row."
   ]
  },
  {
   "cell_type": "code",
   "execution_count": 13,
   "metadata": {},
   "outputs": [
    {
     "name": "stdout",
     "output_type": "stream",
     "text": [
      "Return on Investment: -99.71%\n"
     ]
    }
   ],
   "source": [
    "total_conversions = len(df[df['Conversion'] == 1])\n",
    "avg_rev_per_conversion = total_revenue / total_conversions\n",
    "roi = (avg_rev_per_conversion - total_cost) / total_cost * 100\n",
    "print(f\"Return on Investment: {roi:.2f}%\")"
   ]
  },
  {
   "cell_type": "markdown",
   "metadata": {},
   "source": [
    "**ROI Analysis**\n",
    "\n",
    "* **Significant Loss**: A negative ROI of -99.71% means that for every $1 invested, the company loses $0.9971. This indicates that the campaign generated almost no significant revenue, and nearly the entire investment was lost.\n",
    "* **Major Issue**: This figure indicates a serious problem within the digital marketing campaign, such as a flawed strategy, improper budget allocation, or ineffective execution.\n",
    "* **Need for Change**: In such situations, it is crucial for the company to immediately reevaluate all aspects of the campaign, including strategy, platforms used, marketing messages, and target audience. Drastic changes or even halting the campaign may be necessary to prevent further losses."
   ]
  },
  {
   "cell_type": "markdown",
   "metadata": {},
   "source": [
    "# **Customer Retention Metrics**"
   ]
  },
  {
   "cell_type": "markdown",
   "metadata": {},
   "source": [
    "## **1. Returning Visitors**"
   ]
  },
  {
   "cell_type": "markdown",
   "metadata": {},
   "source": [
    "## **2. Email Engagement**"
   ]
  },
  {
   "cell_type": "markdown",
   "metadata": {},
   "source": [
    "## **3. Previous Purchases**"
   ]
  }
 ],
 "metadata": {
  "kernelspec": {
   "display_name": ".venv",
   "language": "python",
   "name": "python3"
  },
  "language_info": {
   "codemirror_mode": {
    "name": "ipython",
    "version": 3
   },
   "file_extension": ".py",
   "mimetype": "text/x-python",
   "name": "python",
   "nbconvert_exporter": "python",
   "pygments_lexer": "ipython3",
   "version": "3.10.7"
  }
 },
 "nbformat": 4,
 "nbformat_minor": 2
}
